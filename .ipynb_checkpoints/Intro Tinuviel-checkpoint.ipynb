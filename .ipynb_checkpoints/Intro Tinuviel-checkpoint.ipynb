{
 "cells": [
  {
   "cell_type": "markdown",
   "id": "9e89c3df",
   "metadata": {},
   "source": [
    "# Tinuviel Initial Jupyter Notebook\n",
    "![nightingale](visual_assets/nightingale.jpg)"
   ]
  },
  {
   "cell_type": "markdown",
   "id": "5135525e",
   "metadata": {},
   "source": [
    "## Main Tasks\n",
    "- Set up AWS Access\n",
    "    - [boto3 API Docs](https://boto3.amazonaws.com/v1/documentation/api/latest/reference/services/index.html)\n",
    "- Set up Audio input\n",
    "    - [pyaudio API Docs](https://people.csail.mit.edu/hubert/pyaudio/docs/)\n",
    "- Set up audio-roundRobin\n",
    "    - Need to set up at least 2 windows to record while the other is sending data to the back end (and vice-versa)\n",
    "- Set up audio upload to AWS\n",
    "    - Need to call our Lambda function behind API Gateway with the data packaged from one of the windows\n",
    "- Set up Lambda for writing to S3 and API request to Cornell and writing to Athena\n",
    "    - Lambda needs to validate source, validate data, store data in S3, make an ID request to Cornell and write response in Athena\n",
    "- Set Up Quicksight Dashboard based on Athena data\n",
    "    - Want to visualize the number of birds, types, etc.\n",
    "    \n",
    "    \n",
    "Main goal would be to break these down into small functions that could be called by the main program to set everything up and keep the code more maintainable."
   ]
  },
  {
   "cell_type": "markdown",
   "id": "ac74387a",
   "metadata": {},
   "source": [
    "### Set up libraries"
   ]
  },
  {
   "cell_type": "code",
   "execution_count": 5,
   "id": "43bb6cb4",
   "metadata": {},
   "outputs": [],
   "source": [
    "#data manipulation libraries\n",
    "import pandas as pd\n",
    "import numpy as np\n",
    "import scipy\n",
    "#data viz\n",
    "import seaborn as sns\n",
    "#Cloud/Requests libraries\n",
    "import boto3\n",
    "import requests\n",
    "#audio libraries\n",
    "import pyaudio"
   ]
  },
  {
   "cell_type": "markdown",
   "id": "61612168",
   "metadata": {},
   "source": [
    "## Set up key variables"
   ]
  },
  {
   "cell_type": "markdown",
   "id": "bf9a42bb",
   "metadata": {},
   "source": [
    "### Set up AWS Creds\n",
    "\n",
    "- Main S3 Bucket: arn:aws:s3:::tinuviel-main\n",
    "- Device IAM Role: arn:aws:iam::588348648073:role/tinuviel_field_device\n",
    "    - Associated Policies:\n",
    "        - AmazonS3ReadOnlyAccess\n",
    "        - AWSLambdaRole\n",
    "    - Is there an External ID?: Yes, required\n",
    "- Lambda IAM Role: "
   ]
  },
  {
   "cell_type": "code",
   "execution_count": null,
   "id": "908c5633",
   "metadata": {},
   "outputs": [],
   "source": []
  }
 ],
 "metadata": {
  "kernelspec": {
   "display_name": "Python 3 (ipykernel)",
   "language": "python",
   "name": "python3"
  },
  "language_info": {
   "codemirror_mode": {
    "name": "ipython",
    "version": 3
   },
   "file_extension": ".py",
   "mimetype": "text/x-python",
   "name": "python",
   "nbconvert_exporter": "python",
   "pygments_lexer": "ipython3",
   "version": "3.8.15"
  }
 },
 "nbformat": 4,
 "nbformat_minor": 5
}
